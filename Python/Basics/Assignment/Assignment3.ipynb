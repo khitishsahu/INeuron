{
 "cells": [
  {
   "cell_type": "markdown",
   "metadata": {},
   "source": [
    "1. What are the benefits of including roles in the programmes?\n",
    "\n",
    "\n",
    "2. When does the code in a function run: when it's specified or when it's called?\n",
    "The code in a function is executed when it is called.\n",
    "\n",
    "3. What statement causes a feature to be created?\n",
    "\n",
    "4. What is the distinction between a function and a call to a function?\n",
    "A function is a piece of code which enhanced the reusability and modularity of the program. It means that piece of code need not be written again.\n",
    "A function call means invoking or calling that function. Unless a function is called it is not executable and there is no use of that function\n",
    "\n",
    "5. In a Python application, how many global scopes are there? How many local scopes are there?\n",
    "There is one global scope and is created when program begins.\n",
    "A local scope is created whenever a function is called.\n",
    "\n",
    "6. When a function call returns, what happens to variables in the local scope?\n",
    "The variable in the local scope becomes undefined after the function call returns\n",
    "\n",
    "7. What is the concept of a return value? Is it possible to have a return value in an expression?\n",
    "The Python return statement is a special statement that we can use inside a function or method to send the function’s result back to the caller.\n",
    "Yes, we can have a return value in any expression.\n",
    "\n",
    "8. What is the return value of a call to a function that does not have a return statement?\n",
    "None – python implicitly returns this value \n",
    "\n",
    "9. How do you make a function variable refer to the global variable?\n",
    "We can use the global keyword to refer the global variable\n",
    "10. What data form does None belong to?\n",
    "None keyword is used to define a null value, or no value at all. None is not the same as 0, False, or an empty string. None is a data type of its own (NoneType) and only None can be None.\n",
    "\n",
    "11. What does the sentence import areallyourpetsnamederic do?\n",
    "That import statement imports a module named areallyourpetsnamederic.\n",
    "\n",
    "12. If you had a bacon() feature in a spam module, what would you call it after importing spam?\n",
    "We can call it by spam.bacon()\n",
    "\n",
    "13. What can you do to save a programme from crashing if it encounters an error?\n",
    "We can use a try block to catch the exception that we might encounter\n",
    "\n",
    "14. What is the purpose of the try clause? What is the purpose of the except clause?\n",
    "The code that could potentially cause an error goes in the try clause. The code that executes if an error happens goes in the except clause.\n"
   ]
  }
 ],
 "metadata": {
  "kernelspec": {
   "display_name": "Python 3",
   "language": "python",
   "name": "python3"
  },
  "language_info": {
   "codemirror_mode": {
    "name": "ipython",
    "version": 3
   },
   "file_extension": ".py",
   "mimetype": "text/x-python",
   "name": "python",
   "nbconvert_exporter": "python",
   "pygments_lexer": "ipython3",
   "version": "3.7.4"
  }
 },
 "nbformat": 4,
 "nbformat_minor": 2
}
