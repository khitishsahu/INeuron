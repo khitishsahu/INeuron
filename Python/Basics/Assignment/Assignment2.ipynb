{
 "cells": [
  {
   "cell_type": "markdown",
   "metadata": {},
   "source": [
    "1. What are the Boolean data type's two values? How do you go about writing them?\n",
    "The 2 possible value of Boolean Data types are True and False.\n",
    "\n",
    "2. What are the three different types of Boolean operators?\n",
    "And, Or and Comparison (== and !=) operators are the 3 different types of Boolean operators\n",
    "\n",
    "3. Make a list of each Boolean operator's truth tables (i.e. every possible combination of Boolean values for the operator and what it evaluate).\n",
    "\n",
    "4. What are the values of the following expressions?\n",
    "\n",
    "(5 > 4) and (3 == 5)  ---False\n",
    "not (5 > 4) --- False\n",
    "(5 > 4) or (3 == 5) --- True\n",
    "not ((5 > 4) or (3 == 5)) --- False\n",
    "(True and True) and (True == False) --- False\n",
    "(not False) or (not True) --- True\n",
    "\n",
    "5. What are the six different types of reference operators?\n",
    "•\tAssignment Operators (=)\n",
    "•\tArithmetic Operators (+,-,*,/,%,**)\n",
    "•\tLogical Operators (and, or, not)\n",
    "•\tComparison Operators (==, !=, >,<,>=,<=)\n",
    "•\tBitwise Operators (&,|,~,^,<<,>>)\n",
    "\n",
    "6. How do you tell the difference between the equal to and assignment operators?\n",
    "The “=” is an assignment operator is used to assign the value on the right to the variable on the left.\n",
    "The ‘==’ operator checks whether the two given operands are equal or not. If so, it returns true. Otherwise it returns false.\n",
    "\n",
    "7. Describe a condition and when you would use one.\n",
    "When we want to assign a value to a variable we will use “=” assignment operator.\n",
    "When we want to check two operands or value we will use “==” equal to operator.\n",
    "8. Recognize the following three blocks in this code:\n",
    "\n",
    "spam = 0\n",
    "if spam == 10:  #main If block\n",
    "    print('eggs')\n",
    "    if spam > 5: #nested if block\n",
    "        print('bacon')\n",
    "    else:\t\t#nested else block\n",
    "        print('ham')\n",
    "    print('spam')\n",
    "print('spam')\n",
    "\n",
    "9. Create a programme that prints. If 1 is stored in spam, prints Hello; if 2 is stored in spam, prints Howdy; and if 3 is stored in spam, prints Salutations! if there's something else in spam.\n",
    "spam = int(input(\"Enter a value for spam \"))\n",
    "if spam == 1:\n",
    "    print('Hello')\n",
    "elif spam==2:\n",
    "    print('Howdy')\n",
    "elif spam==3:\n",
    "    print('Salutations!')\n",
    "else:\n",
    "    print('spam')\n",
    "\n",
    "10. If your programme is stuck in an endless loop, what keys can you press?\n",
    "Ctrl + C\n",
    "\n",
    "11. How can you tell the difference between break and continue?\n",
    "Break statement resumes the control of the program to the end of loop and made executional flow outside that loop.\n",
    " Continue statement resumes the control of the program to the next iteration of that loop enclosing 'continue' and made executional flow inside the loop again\n",
    "12. In a for loop, what is the difference between range(10), range(0, 10), and range(0, 10, 1)?\n",
    "range(10) -   we will get a series of numbers that starts at 0 and includes every whole number up to, but not including, the number that user have provided as the stop\n",
    "range(0,10) - we get to decide not only where the series of numbers stops but also where it starts, so that we don’t have to start at 0 all the time and we can give any other whole number below the stop number\n",
    "range(0,10,1) - When we call range() with three arguments, we can choose not only where the series of numbers will start and stop but also how big the difference will be between one number and the next. If we don’t provide a step, then range() will automatically behave as if the step is 1\n",
    "\n"
   ]
  },
  {
   "cell_type": "markdown",
   "metadata": {},
   "source": [
    "13. Using a for loop, write a short programme that prints the numbers 1 to 10 Then, using a while loop, create an identical programme that prints the numbers 1 to 10."
   ]
  },
  {
   "cell_type": "code",
   "execution_count": 1,
   "metadata": {
    "scrolled": true
   },
   "outputs": [
    {
     "name": "stdout",
     "output_type": "stream",
     "text": [
      "1\n",
      "2\n",
      "3\n",
      "4\n",
      "5\n",
      "6\n",
      "7\n",
      "8\n",
      "9\n",
      "10\n",
      "1\n",
      "2\n",
      "3\n",
      "4\n",
      "5\n",
      "6\n",
      "7\n",
      "8\n",
      "9\n",
      "10\n"
     ]
    }
   ],
   "source": [
    "for i in range(1,11):\n",
    "    print(i)\n",
    "j=0\n",
    "while j<10:\n",
    "    j+=1\n",
    "    print(j)\n"
   ]
  },
  {
   "cell_type": "markdown",
   "metadata": {},
   "source": [
    "14. If you had a bacon() function within a spam module, what would you call it after importing spam?\n",
    "from spam import bacon()"
   ]
  }
 ],
 "metadata": {
  "kernelspec": {
   "display_name": "Python 3",
   "language": "python",
   "name": "python3"
  },
  "language_info": {
   "codemirror_mode": {
    "name": "ipython",
    "version": 3
   },
   "file_extension": ".py",
   "mimetype": "text/x-python",
   "name": "python",
   "nbconvert_exporter": "python",
   "pygments_lexer": "ipython3",
   "version": "3.7.4"
  }
 },
 "nbformat": 4,
 "nbformat_minor": 2
}
