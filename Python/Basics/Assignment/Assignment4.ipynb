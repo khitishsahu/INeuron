{
 "cells": [
  {
   "cell_type": "markdown",
   "metadata": {},
   "source": [
    "1. What exactly is []?\n",
    "The value [] is an empty list that contains no values, similar to '', the empty string.\n"
   ]
  },
  {
   "cell_type": "markdown",
   "metadata": {},
   "source": [
    "2. In a list of values stored in a variable called spam, how would you assign the value 'hello' as the third value? (Assume [2, 4, 6, 8, 10] are in spam.)\n"
   ]
  },
  {
   "cell_type": "code",
   "execution_count": 1,
   "metadata": {},
   "outputs": [],
   "source": [
    "spam = [2, 4, 6, 8, 10]\n",
    "spam[2]=\"hello\""
   ]
  },
  {
   "cell_type": "code",
   "execution_count": 10,
   "metadata": {},
   "outputs": [
    {
     "name": "stdout",
     "output_type": "stream",
     "text": [
      "d\n",
      "d\n",
      "['a', 'b']\n"
     ]
    }
   ],
   "source": [
    "#Let's pretend the spam includes the list ['a', 'b', 'c', 'd'] for the next three queries.\n",
    "\n",
    "spam=['a', 'b', 'c', 'd']\n",
    "#3. What is the value of spam[int(int('3' * 2) / 11)]?\n",
    "print(spam[int(int('3' * 2) / 11)])\n",
    "#‘d’\n",
    "\n",
    "#4. What is the value of spam[-1]?\n",
    "#‘d’\n",
    "print(spam[-1])\n",
    "\n",
    "#5. What is the value of spam[:2]?\n",
    "#[‘a’,’b’]\n",
    "print(spam[:2])"
   ]
  },
  {
   "cell_type": "code",
   "execution_count": 7,
   "metadata": {},
   "outputs": [
    {
     "data": {
      "text/plain": [
       "1"
      ]
     },
     "execution_count": 7,
     "metadata": {},
     "output_type": "execute_result"
    }
   ],
   "source": [
    "\"\"\"\n",
    "Let's pretend bacon has the list [3.14, 'cat,' 11, 'cat,' True] for the next three questions.\n",
    "6. What is the value of bacon.index('cat')?\n",
    "1\n",
    "\"\"\"\n",
    "bacon=[3.14, 'cat', 11, 'cat', True]\n",
    "bacon.index('cat')"
   ]
  },
  {
   "cell_type": "code",
   "execution_count": 8,
   "metadata": {},
   "outputs": [
    {
     "name": "stdout",
     "output_type": "stream",
     "text": [
      "[3.14, 'cat', 11, 'cat', True, 99]\n"
     ]
    }
   ],
   "source": [
    "\"\"\"\n",
    "7. How does bacon.append(99) change the look of the list value in bacon?\n",
    "[3.14, 'cat', 11, 'cat', True,99]\n",
    "\"\"\"\n",
    "bacon.append(99)\n",
    "print(bacon)"
   ]
  },
  {
   "cell_type": "code",
   "execution_count": 9,
   "metadata": {},
   "outputs": [
    {
     "name": "stdout",
     "output_type": "stream",
     "text": [
      "[3.14, 11, 'cat', True, 99]\n"
     ]
    }
   ],
   "source": [
    "\"\"\"\n",
    "8. How does bacon.remove('cat') change the look of the list meaning in bacon?\n",
    "[3.14, 11, 'cat', True,99] \n",
    "\"\"\"\n",
    "bacon.remove('cat')\n",
    "print(bacon)"
   ]
  },
  {
   "cell_type": "markdown",
   "metadata": {},
   "source": [
    "9. What are the list concatenation and list replication operators?\n",
    "The operator for list concatenation is +, while the operator for replication is *\n",
    "\n",
    "10. What is difference between the list methods append() and insert()?\n",
    "While append() will add values only to the end of a list, insert() can add them anywhere in the list.\n",
    "\n",
    "11. What are the two methods for removing items from a list?\n",
    "remove() and del statement , del can be used when we know the index of the item to be deleted\n",
    "\n",
    "12. Describe how list values and string values are identical.\n",
    "Both lists and strings can be passed to len(), have indexes and slices, be used in for loops, be concatenated or replicated, and be used with the in and not in operators. \n",
    "However append() and insert() are only available for list and cannot be used with strings.\n",
    "\n",
    "13. What's the difference between tuples and lists?\n",
    "Lists are mutable; they can have values added, removed, or changed. lists use the square brackets, [ and ]. \n",
    "Tuples are immutable; they cannot be changed at all. Also, tuples are written using parentheses, ( and ).\n",
    "\n",
    "14. How do you type a tuple value that only contains the integer 42?\n",
    "T= (42,) where comma is mandatory after the number else it will be treated as an integer\n",
    "\n",
    "15. How do you get a list value's tuple form? How do you get a tuple value's list form?\n",
    "By using tuples() and list() function respectively\n",
    "\n",
    "16. Variables that \"contain\" list values are not necessarily lists themselves. Instead, what do they contain?\n",
    "They contain references to list values.\n",
    "\n",
    "17. How do you distinguish between copy.copy() and copy.deepcopy()?\n",
    "The copy.copy(), can be used to make a duplicate copy of a mutable value like a list or dictionary, not just a copy of a reference \n",
    "The copy.deepcopy() function will copy the inner lists as well \n"
   ]
  }
 ],
 "metadata": {
  "kernelspec": {
   "display_name": "Python 3",
   "language": "python",
   "name": "python3"
  },
  "language_info": {
   "codemirror_mode": {
    "name": "ipython",
    "version": 3
   },
   "file_extension": ".py",
   "mimetype": "text/x-python",
   "name": "python",
   "nbconvert_exporter": "python",
   "pygments_lexer": "ipython3",
   "version": "3.7.4"
  }
 },
 "nbformat": 4,
 "nbformat_minor": 2
}
