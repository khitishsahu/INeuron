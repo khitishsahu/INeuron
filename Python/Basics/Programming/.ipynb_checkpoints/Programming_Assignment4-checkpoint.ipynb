{
 "cells": [
  {
   "cell_type": "markdown",
   "metadata": {},
   "source": [
    "1. Write a Python Program to Find the Factorial of a Number?\n",
    "2. Write a Python Program to Display the multiplication Table?\n",
    "3. Write a Python Program to Print the Fibonacci sequence?\n",
    "4. Write a Python Program to Check Armstrong Number?\n",
    "5. Write a Python Program to Find Armstrong Number in an Interval?\n",
    "6. Write a Python Program to Find the Sum of Natural Numbers?"
   ]
  },
  {
   "cell_type": "code",
   "execution_count": 6,
   "metadata": {},
   "outputs": [
    {
     "name": "stdout",
     "output_type": "stream",
     "text": [
      "Enter a number to calculate factorial: 5\n",
      "Factorial of number:  120\n"
     ]
    }
   ],
   "source": [
    "def factorial(num):\n",
    "    fact = 1\n",
    "    while(num>1):\n",
    "        fact *=num\n",
    "        num-=1\n",
    "    return fact\n",
    "\n",
    "\"\"\" using recurssion\n",
    "\n",
    "def factorial(num):\n",
    "    fact = 1\n",
    "    while(num>1):\n",
    "        return (num*(factorial(num-1)))\n",
    "    return 1\n",
    "\"\"\"\n",
    "\n",
    "n = int(input(\"Enter a number to calculate factorial: \"))\n",
    "print(\"Factorial of number: \", factorial(n))"
   ]
  },
  {
   "cell_type": "code",
   "execution_count": 11,
   "metadata": {},
   "outputs": [
    {
     "name": "stdout",
     "output_type": "stream",
     "text": [
      "Enter a number to display multiplication table for: 2\n",
      "Multiplication table for  2 :\n",
      "\n",
      "2  x  1  =  2\n",
      "2  x  2  =  4\n",
      "2  x  3  =  6\n",
      "2  x  4  =  8\n",
      "2  x  5  =  10\n",
      "2  x  6  =  12\n",
      "2  x  7  =  14\n",
      "2  x  8  =  16\n",
      "2  x  9  =  18\n",
      "2  x  10  =  20\n"
     ]
    }
   ],
   "source": [
    "def multiplication_table(num):\n",
    "    for i in range(1,11):\n",
    "        print(num,\" x \",i,\" = \",num*i)\n",
    "\n",
    "n = int(input(\"Enter a number to display multiplication table for: \"))\n",
    "print(\"Multiplication table for \",n, \":\\n\")\n",
    "multiplication_table(n)"
   ]
  },
  {
   "cell_type": "code",
   "execution_count": 22,
   "metadata": {},
   "outputs": [
    {
     "name": "stdout",
     "output_type": "stream",
     "text": [
      "Enter a number to find fibonacci series: 30\n",
      "Fibonacci series: \n",
      "1 1 2 3 5 8 13 21 "
     ]
    }
   ],
   "source": [
    "def fibonacci(num):\n",
    "    a = 1\n",
    "    b = 1\n",
    "    print(a, b, end=\" \")\n",
    "    c = a+b\n",
    "    while(c < num):\n",
    "        print(c, end=\" \")\n",
    "        a=b\n",
    "        b=c\n",
    "        c=a+b\n",
    "        \n",
    "n = int(input(\"Enter a number to find fibonacci series: \"))\n",
    "print(\"Fibonacci series: \")\n",
    "fibonacci(n)"
   ]
  },
  {
   "cell_type": "code",
   "execution_count": 55,
   "metadata": {},
   "outputs": [
    {
     "name": "stdout",
     "output_type": "stream",
     "text": [
      "Enter a number to check Armstrong number : 1634\n",
      "it is an Armstrong number\n"
     ]
    }
   ],
   "source": [
    "def armstrong(num):\n",
    "    arm=0\n",
    "    count = 0\n",
    "    n=num\n",
    "    while(n>0):\n",
    "        n=int(n/10)\n",
    "        count+=1\n",
    "        \n",
    "    n = num    \n",
    "    while(n>0):\n",
    "        rem = n%10\n",
    "        n=int(n/10)\n",
    "        arm += rem**count\n",
    "    if(arm == num):\n",
    "        return True\n",
    "    else:\n",
    "        return False\n",
    "    \n",
    "n = int(input(\"Enter a number to check Armstrong number : \"))\n",
    "if armstrong(n):\n",
    "    print(\"it is an Armstrong number\")\n",
    "else:\n",
    "    print(\"it is not Armstrong number\")"
   ]
  },
  {
   "cell_type": "code",
   "execution_count": 59,
   "metadata": {},
   "outputs": [
    {
     "name": "stdout",
     "output_type": "stream",
     "text": [
      "Enter a number to find sum on natural no: 5\n",
      "Sum of 5 natural no: 15.0\n"
     ]
    }
   ],
   "source": [
    "def sum_natural_num(num):\n",
    "    return(num*(num+1)/2)\n",
    "        \n",
    "n = int(input(\"Enter a number to find sum on natural no: \"))\n",
    "print(\"Sum of {} natural no: {}\".format(n,sum_natural_num(n)))"
   ]
  },
  {
   "cell_type": "code",
   "execution_count": null,
   "metadata": {},
   "outputs": [],
   "source": []
  }
 ],
 "metadata": {
  "kernelspec": {
   "display_name": "Python 3",
   "language": "python",
   "name": "python3"
  },
  "language_info": {
   "codemirror_mode": {
    "name": "ipython",
    "version": 3
   },
   "file_extension": ".py",
   "mimetype": "text/x-python",
   "name": "python",
   "nbconvert_exporter": "python",
   "pygments_lexer": "ipython3",
   "version": "3.7.4"
  }
 },
 "nbformat": 4,
 "nbformat_minor": 2
}
