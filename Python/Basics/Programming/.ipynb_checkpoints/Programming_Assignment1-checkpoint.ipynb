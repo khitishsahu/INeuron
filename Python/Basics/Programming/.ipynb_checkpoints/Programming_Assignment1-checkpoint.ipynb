{
 "cells": [
  {
   "cell_type": "markdown",
   "metadata": {},
   "source": [
    "1. Write a Python program to print &quot;Hello Python&quot;?\n",
    "2. Write a Python program to do arithmetical operations addition and division.?\n",
    "3. Write a Python program to find the area of a triangle?\n",
    "4. Write a Python program to swap two variables?\n",
    "5. Write a Python program to generate a random number?"
   ]
  },
  {
   "cell_type": "code",
   "execution_count": 1,
   "metadata": {},
   "outputs": [
    {
     "name": "stdout",
     "output_type": "stream",
     "text": [
      "Hello Python\n"
     ]
    }
   ],
   "source": [
    "print(\"Hello Python\")"
   ]
  },
  {
   "cell_type": "code",
   "execution_count": 7,
   "metadata": {},
   "outputs": [
    {
     "name": "stdout",
     "output_type": "stream",
     "text": [
      "26.5\n",
      "2.0\n"
     ]
    }
   ],
   "source": [
    "#just taking int and float into consideration for addition and divison \n",
    "def add(*args):\n",
    "    sum  = 0\n",
    "    for i in args:\n",
    "        if type(i) in (int,float):\n",
    "            sum+=i\n",
    "    return sum\n",
    "\n",
    "def div(a,b):\n",
    "    if b>0:\n",
    "        return a/b\n",
    "\n",
    "print(add(5,6,7,8.5))\n",
    "print(div(6,3))\n",
    "            "
   ]
  },
  {
   "cell_type": "code",
   "execution_count": 12,
   "metadata": {},
   "outputs": [
    {
     "name": "stdout",
     "output_type": "stream",
     "text": [
      "height of triangle 5\n",
      "width of triangle 5\n",
      "Area of Triangle: 12.5\n"
     ]
    }
   ],
   "source": [
    "def area(h,b):\n",
    "    return(h*b/2)\n",
    "h = int(input(\"height of triangle \"))\n",
    "b = int(input(\"width of triangle \"))\n",
    "area = area(h,b)\n",
    "print(\"Area of Triangle: \"+ str(area))"
   ]
  },
  {
   "cell_type": "code",
   "execution_count": 18,
   "metadata": {},
   "outputs": [
    {
     "name": "stdout",
     "output_type": "stream",
     "text": [
      "First value 4\n",
      "Second value 5\n",
      "a: 4 2430641335856\n",
      "b: 5 2430637759792\n",
      "a: 5 2430637759792\n",
      "b: 4 2430641335856\n"
     ]
    }
   ],
   "source": [
    "a = input(\"First value \")\n",
    "b = input(\"Second value \")\n",
    "print(\"a: \" +a + \" \" + str(id(a)))\n",
    "print(\"b: \" +b + \" \" + str(id(b)))\n",
    "\n",
    "#a,b = b,a\n",
    "\n",
    "temp =a\n",
    "a=b\n",
    "b=temp\n",
    "\n",
    "print(\"a: \" +a + \" \" + str(id(a)))\n",
    "print(\"b: \" +b + \" \" + str(id(b)))\n"
   ]
  },
  {
   "cell_type": "code",
   "execution_count": 28,
   "metadata": {},
   "outputs": [
    {
     "name": "stdout",
     "output_type": "stream",
     "text": [
      "9\n"
     ]
    }
   ],
   "source": [
    "import random\n",
    "a = random.randint(0,10)\n",
    "print(a)"
   ]
  },
  {
   "cell_type": "code",
   "execution_count": null,
   "metadata": {},
   "outputs": [],
   "source": []
  }
 ],
 "metadata": {
  "kernelspec": {
   "display_name": "Python 3",
   "language": "python",
   "name": "python3"
  },
  "language_info": {
   "codemirror_mode": {
    "name": "ipython",
    "version": 3
   },
   "file_extension": ".py",
   "mimetype": "text/x-python",
   "name": "python",
   "nbconvert_exporter": "python",
   "pygments_lexer": "ipython3",
   "version": "3.7.4"
  }
 },
 "nbformat": 4,
 "nbformat_minor": 2
}
