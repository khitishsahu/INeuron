{
 "cells": [
  {
   "cell_type": "markdown",
   "metadata": {},
   "source": [
    "1. Write a Python Program to Find LCM?\n",
    "2. Write a Python Program to Find HCF?\n",
    "3. Write a Python Program to Convert Decimal to Binary, Octal and Hexadecimal?\n",
    "4. Write a Python Program To Find ASCII value of a character?\n",
    "5. Write a Python Program to Make a Simple Calculator with 4 basic mathematical operations?"
   ]
  },
  {
   "cell_type": "code",
   "execution_count": 1,
   "metadata": {},
   "outputs": [
    {
     "name": "stdout",
     "output_type": "stream",
     "text": [
      "Enter x to find LCM: 4\n",
      "Enter y to find LCM: 5\n",
      "LCM of 4 and 5 is 20\n"
     ]
    }
   ],
   "source": [
    "def find_LCM(x,y):\n",
    "    if x > y:\n",
    "       z = x\n",
    "    else:\n",
    "       z = y\n",
    "\n",
    "    while(True):\n",
    "       if((z % x == 0) and (z % y == 0)):\n",
    "            lcm = z\n",
    "            break\n",
    "       z += 1\n",
    "    return lcm\n",
    "\n",
    "x = int(input(\"Enter x to find LCM: \"))\n",
    "y = int(input(\"Enter y to find LCM: \"))\n",
    "print(\"LCM of {} and {} is {}\".format(x,y,find_LCM(x,y)))"
   ]
  },
  {
   "cell_type": "code",
   "execution_count": 2,
   "metadata": {},
   "outputs": [
    {
     "name": "stdout",
     "output_type": "stream",
     "text": [
      "Enter x to find HCF: 10\n",
      "Enter y to find HCF: 20\n",
      "LCM of 10 and 20 is 10\n"
     ]
    }
   ],
   "source": [
    "def find_HCF(x, y):\n",
    " \n",
    "   while(y):\n",
    "       x, y = y, x % y\n",
    "   return x\n",
    "\n",
    "x = int(input(\"Enter x to find HCF: \"))\n",
    "y = int(input(\"Enter y to find HCF: \"))\n",
    "print(\"LCM of {} and {} is {}\".format(x,y,find_HCF(x,y)))"
   ]
  },
  {
   "cell_type": "code",
   "execution_count": 3,
   "metadata": {},
   "outputs": [
    {
     "name": "stdout",
     "output_type": "stream",
     "text": [
      "Enter a Decimal Number: 12\n",
      "Binary equivalent =  0 1 1 0 0 \n",
      "Octal equivalent =  0 1 4 \n",
      "Hexadecimal equivalent =  0 12 "
     ]
    }
   ],
   "source": [
    "def dec_bin(num):\n",
    "    if num >= 1:\n",
    "        dec_bin(num//2)\n",
    "    print(num%2, end=\" \")\n",
    "    \n",
    "def dec_octa(num):\n",
    "    if num >= 1:\n",
    "        dec_bin(num//8)\n",
    "    print(num%8, end=\" \")\n",
    "    \n",
    "def dec_hexa(num):\n",
    "    if num >= 1:\n",
    "        dec_bin(num//16)\n",
    "    print(num%16, end=\" \")\n",
    "\n",
    "n = int(input(\"Enter a Decimal Number: \"))\n",
    "print(\"Binary equivalent = \",end=\" \") \n",
    "dec_bin(n)\n",
    "print(\"\\nOctal equivalent = \",end=\" \") \n",
    "dec_octa(n)\n",
    "print(\"\\nHexadecimal equivalent = \",end=\" \") \n",
    "dec_hexa(n)"
   ]
  },
  {
   "cell_type": "code",
   "execution_count": 4,
   "metadata": {},
   "outputs": [
    {
     "name": "stdout",
     "output_type": "stream",
     "text": [
      "enter a character: F\n",
      "70\n"
     ]
    }
   ],
   "source": [
    "def get_ASCII(char):\n",
    "    print(ord(char))\n",
    "    \n",
    "c = input(\"enter a character: \")\n",
    "get_ASCII(c)"
   ]
  },
  {
   "cell_type": "code",
   "execution_count": 5,
   "metadata": {},
   "outputs": [
    {
     "name": "stdout",
     "output_type": "stream",
     "text": [
      "Enter first number: 4\n",
      "Enter second number: 5\n",
      "Enter 1 : additon\n",
      "Enter 2 : subtraction\n",
      "Enter 3 : multiplication\n",
      "Enter 4 : division \n",
      "3\n",
      "4  *  5  =  20\n",
      "want to continue more(Y/N)N\n"
     ]
    }
   ],
   "source": [
    "def add(x,y):\n",
    "    return x + y\n",
    "\n",
    "def sub(x,y):\n",
    "    return x - y\n",
    "\n",
    "def mul(x,y):\n",
    "    return x * y\n",
    "\n",
    "def div(x,y):\n",
    "    return x / y\n",
    "\n",
    "choice = 'Y'\n",
    "while(choice == 'Y'):\n",
    "    x = int(input(\"Enter first number: \"))\n",
    "    y = int(input(\"Enter second number: \"))\n",
    "    op = int(input(\"Enter 1 : additon\\n\"\n",
    "                    \"Enter 2 : subtraction\\n\"\n",
    "                    \"Enter 3 : multiplication\\n\"\n",
    "                    \"Enter 4 : division \\n\"))\n",
    "    if op ==1 :\n",
    "        print(x,\" + \",y,\" = \",add(x,y))\n",
    "    elif op == 2:\n",
    "        print(x,\" - \",y,\" = \",sub(x,y))\n",
    "    elif op == 3:\n",
    "        print(x,\" * \",y,\" = \",mul(x,y))\n",
    "    elif op == 4:\n",
    "        print(x,\" / \",y,\" = \",div(x,y))\n",
    "    else:\n",
    "        print(\"invalid selection\")\n",
    "    choice = input(\"want to continue more(Y/N)\")"
   ]
  },
  {
   "cell_type": "code",
   "execution_count": null,
   "metadata": {},
   "outputs": [],
   "source": []
  }
 ],
 "metadata": {
  "kernelspec": {
   "display_name": "Python 3",
   "language": "python",
   "name": "python3"
  },
  "language_info": {
   "codemirror_mode": {
    "name": "ipython",
    "version": 3
   },
   "file_extension": ".py",
   "mimetype": "text/x-python",
   "name": "python",
   "nbconvert_exporter": "python",
   "pygments_lexer": "ipython3",
   "version": "3.7.4"
  }
 },
 "nbformat": 4,
 "nbformat_minor": 2
}
