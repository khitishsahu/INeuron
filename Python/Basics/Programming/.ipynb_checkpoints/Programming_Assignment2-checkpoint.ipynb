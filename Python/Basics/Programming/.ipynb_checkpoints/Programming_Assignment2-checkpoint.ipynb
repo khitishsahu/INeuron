{
 "cells": [
  {
   "cell_type": "markdown",
   "metadata": {},
   "source": [
    "1. Write a Python program to convert kilometers to miles?\n",
    "2. Write a Python program to convert Celsius to Fahrenheit?\n",
    "3. Write a Python program to display calendar?\n",
    "4. Write a Python program to solve quadratic equation?\n",
    "5. Write a Python program to swap two variables without temp variable?"
   ]
  },
  {
   "cell_type": "code",
   "execution_count": 5,
   "metadata": {},
   "outputs": [
    {
     "name": "stdout",
     "output_type": "stream",
     "text": [
      "Enter distance in Kilometers: 23\n",
      "Distance in miles:  14.2922\n"
     ]
    }
   ],
   "source": [
    "def conv_km_miles(dist):\n",
    "    return(dist*0.6214)\n",
    "\n",
    "dist_km = float(input(\"Enter distance in Kilometers: \"))\n",
    "print(\"Distance in miles: \",conv_km_miles(dist_km))"
   ]
  },
  {
   "cell_type": "code",
   "execution_count": 4,
   "metadata": {},
   "outputs": [
    {
     "name": "stdout",
     "output_type": "stream",
     "text": [
      "Enter Temperature in Celsius: 3\n",
      "Temperature in Fahrenheit 37.4\n"
     ]
    }
   ],
   "source": [
    "def conv_C_F(temp):\n",
    "    return((temp*9/5)+32)\n",
    "\n",
    "temp_C = float(input(\"Enter Temperature in Celsius: \"))\n",
    "print(\"Temperature in Fahrenheit\", conv_C_F(temp_C))"
   ]
  },
  {
   "cell_type": "code",
   "execution_count": 8,
   "metadata": {},
   "outputs": [
    {
     "name": "stdout",
     "output_type": "stream",
     "text": [
      "     March 2021\n",
      "Mo Tu We Th Fr Sa Su\n",
      " 1  2  3  4  5  6  7\n",
      " 8  9 10 11 12 13 14\n",
      "15 16 17 18 19 20 21\n",
      "22 23 24 25 26 27 28\n",
      "29 30 31\n",
      "\n"
     ]
    }
   ],
   "source": [
    "import calendar\n",
    "\n",
    "yy = 2021\n",
    "mm = 3\n",
    "print(calendar.month(yy,mm))"
   ]
  },
  {
   "cell_type": "code",
   "execution_count": 10,
   "metadata": {},
   "outputs": [
    {
     "name": "stdout",
     "output_type": "stream",
     "text": [
      "First value for a 1\n",
      "First value for b 5\n",
      "First value for c 6\n",
      "The solution are (-3+0j) and (-2+0j)\n"
     ]
    }
   ],
   "source": [
    "# We are solving the quadratic equation ax**2 + bx + c = 0\n",
    "\n",
    "import cmath\n",
    "\n",
    "def find_quad_sol(a,b,c):\n",
    "    # calculate the discriminant\n",
    "    d = (b**2) - (4*a*c)\n",
    "    \n",
    "    # find two solutions\n",
    "    sol1 = (-b-cmath.sqrt(d))/(2*a)\n",
    "    sol2 = (-b+cmath.sqrt(d))/(2*a)\n",
    "    return sol1, sol2\n",
    "    \n",
    "\n",
    "a = int(input(\"First value for a \"))\n",
    "b = int(input(\"First value for b \"))\n",
    "c = int(input(\"First value for c \"))\n",
    "\n",
    "\n",
    "\n",
    "sol1, sol2 = find_quad_sol(a,b,c)\n",
    "\n",
    "print('The solution are {0} and {1}'.format(sol1,sol2))"
   ]
  },
  {
   "cell_type": "code",
   "execution_count": 9,
   "metadata": {},
   "outputs": [
    {
     "name": "stdout",
     "output_type": "stream",
     "text": [
      "First value 4\n",
      "Second value 5\n",
      "a:  4   1906632650160\n",
      "b:  5   1906623044912\n",
      "a:  5   1906623044912\n",
      "b:  4   1906632650160\n"
     ]
    },
    {
     "data": {
      "text/plain": [
       "'\\nprint(\"a: \" +a + \" \" + str(id(a)))\\nprint(\"b: \" +b + \" \" + str(id(b)))\\n'"
      ]
     },
     "execution_count": 9,
     "metadata": {},
     "output_type": "execute_result"
    }
   ],
   "source": [
    "a = input(\"First value \")\n",
    "b = input(\"Second value \")\n",
    "print(\"a: \",a , \" \",id(a))\n",
    "print(\"b: \",b , \" \",id(b))\n",
    "\n",
    "a,b = b,a\n",
    "\n",
    "print(\"a: \",a , \" \",id(a))\n",
    "print(\"b: \",b , \" \",id(b))"
   ]
  }
 ],
 "metadata": {
  "kernelspec": {
   "display_name": "Python 3",
   "language": "python",
   "name": "python3"
  },
  "language_info": {
   "codemirror_mode": {
    "name": "ipython",
    "version": 3
   },
   "file_extension": ".py",
   "mimetype": "text/x-python",
   "name": "python",
   "nbconvert_exporter": "python",
   "pygments_lexer": "ipython3",
   "version": "3.7.4"
  }
 },
 "nbformat": 4,
 "nbformat_minor": 2
}
